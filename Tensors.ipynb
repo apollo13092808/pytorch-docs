{
  "nbformat": 4,
  "nbformat_minor": 0,
  "metadata": {
    "colab": {
      "provenance": [],
      "authorship_tag": "ABX9TyO+W+cAHFYScf50VbXIpQC4",
      "include_colab_link": true
    },
    "kernelspec": {
      "name": "python3",
      "display_name": "Python 3"
    },
    "language_info": {
      "name": "python"
    }
  },
  "cells": [
    {
      "cell_type": "markdown",
      "metadata": {
        "id": "view-in-github",
        "colab_type": "text"
      },
      "source": [
        "<a href=\"https://colab.research.google.com/github/apollo13092808/pytorch-docs/blob/main/Tensors.ipynb\" target=\"_parent\"><img src=\"https://colab.research.google.com/assets/colab-badge.svg\" alt=\"Open In Colab\"/></a>"
      ]
    },
    {
      "cell_type": "code",
      "execution_count": 1,
      "metadata": {
        "id": "0-Lj5xUNHnWt"
      },
      "outputs": [],
      "source": [
        "import torch\n",
        "import numpy as np"
      ]
    },
    {
      "cell_type": "code",
      "source": [
        "a = [[1, 2], [3, 4]]\n",
        "print(a)\n",
        "print(type(a))\n",
        "print()\n",
        "\n",
        "t = torch.tensor(a)\n",
        "print(t)\n",
        "print(type(t))"
      ],
      "metadata": {
        "colab": {
          "base_uri": "https://localhost:8080/"
        },
        "id": "qgjjRPujJJpN",
        "outputId": "5b4ab434-dfd4-49d4-f70a-2bd492973db3"
      },
      "execution_count": 2,
      "outputs": [
        {
          "output_type": "stream",
          "name": "stdout",
          "text": [
            "[[1, 2], [3, 4]]\n",
            "<class 'list'>\n",
            "\n",
            "tensor([[1, 2],\n",
            "        [3, 4]])\n",
            "<class 'torch.Tensor'>\n"
          ]
        }
      ]
    },
    {
      "cell_type": "code",
      "source": [
        "a = [[1, 2], [3, 4]]\n",
        "\n",
        "n = np.array(a)\n",
        "print(n)\n",
        "print(type(n))\n",
        "print()\n",
        "\n",
        "t = torch.from_numpy(n)\n",
        "print(t)\n",
        "print(type(t))"
      ],
      "metadata": {
        "colab": {
          "base_uri": "https://localhost:8080/"
        },
        "id": "B5N351eRJaFC",
        "outputId": "e9b56b68-2cd2-4700-cf3a-fccb75290cf4"
      },
      "execution_count": 3,
      "outputs": [
        {
          "output_type": "stream",
          "name": "stdout",
          "text": [
            "[[1 2]\n",
            " [3 4]]\n",
            "<class 'numpy.ndarray'>\n",
            "\n",
            "tensor([[1, 2],\n",
            "        [3, 4]])\n",
            "<class 'torch.Tensor'>\n"
          ]
        }
      ]
    },
    {
      "cell_type": "code",
      "source": [
        "print(torch.ones_like(torch.tensor(a)))"
      ],
      "metadata": {
        "colab": {
          "base_uri": "https://localhost:8080/"
        },
        "id": "2bLf2_1EMRxy",
        "outputId": "b1d17093-cee7-4e6c-cb7d-4aec981b351a"
      },
      "execution_count": 4,
      "outputs": [
        {
          "output_type": "stream",
          "name": "stdout",
          "text": [
            "tensor([[1, 1],\n",
            "        [1, 1]])\n"
          ]
        }
      ]
    },
    {
      "cell_type": "code",
      "source": [
        "print(torch.rand_like(torch.tensor(a), dtype=torch.float))"
      ],
      "metadata": {
        "colab": {
          "base_uri": "https://localhost:8080/"
        },
        "id": "WWptjA9HMvfw",
        "outputId": "d282e132-a682-4bc9-bad4-f9d632ceb231"
      },
      "execution_count": 5,
      "outputs": [
        {
          "output_type": "stream",
          "name": "stdout",
          "text": [
            "tensor([[0.2911, 0.3247],\n",
            "        [0.0309, 0.2352]])\n"
          ]
        }
      ]
    },
    {
      "cell_type": "code",
      "source": [
        "t = torch.rand(3, 4)\n",
        "print(t)"
      ],
      "metadata": {
        "colab": {
          "base_uri": "https://localhost:8080/"
        },
        "id": "rB_CfFJIM9rg",
        "outputId": "c614df14-09be-43a4-9fb6-fb94099c5846"
      },
      "execution_count": 6,
      "outputs": [
        {
          "output_type": "stream",
          "name": "stdout",
          "text": [
            "tensor([[0.1015, 0.4887, 0.8793, 0.9093],\n",
            "        [0.8525, 0.5788, 0.7389, 0.3574],\n",
            "        [0.2405, 0.4634, 0.5032, 0.2874]])\n"
          ]
        }
      ]
    },
    {
      "cell_type": "code",
      "source": [
        "print(f\" Shape: {t.shape}\")\n",
        "print(f\" Dtype: {t.dtype}\")\n",
        "print(f\"Device: {t.device}\")"
      ],
      "metadata": {
        "colab": {
          "base_uri": "https://localhost:8080/"
        },
        "id": "VDFmEkPWNQB3",
        "outputId": "8081f003-430f-47ee-9c80-01953834fdc5"
      },
      "execution_count": 7,
      "outputs": [
        {
          "output_type": "stream",
          "name": "stdout",
          "text": [
            " Shape: torch.Size([3, 4])\n",
            " Dtype: torch.float32\n",
            "Device: cpu\n"
          ]
        }
      ]
    },
    {
      "cell_type": "code",
      "source": [
        "if torch.cuda.is_available():\n",
        "    t = t.to(\"cuda\")"
      ],
      "metadata": {
        "id": "ePD6qOUoNcTu"
      },
      "execution_count": 8,
      "outputs": []
    },
    {
      "cell_type": "code",
      "source": [
        "t = torch.tensor([[ 1,  2,  3,  4],\n",
        "                  [ 5,  6,  7,  8],\n",
        "                  [ 9, 10, 11, 12],\n",
        "                  [13, 14, 15, 16]])\n",
        "\n",
        "print(t)\n",
        "print(f\"\\nFirst row: {t[0]}\")\n",
        "print(f\"\\nFirst column: {t[:, 0]}\")\n",
        "print(f\"\\nLast row: {t[..., -1]}\")"
      ],
      "metadata": {
        "colab": {
          "base_uri": "https://localhost:8080/"
        },
        "id": "FP8BSsUQNpmD",
        "outputId": "36193731-f3ab-44a0-8e5a-673efb1c4c71"
      },
      "execution_count": 9,
      "outputs": [
        {
          "output_type": "stream",
          "name": "stdout",
          "text": [
            "tensor([[ 1,  2,  3,  4],\n",
            "        [ 5,  6,  7,  8],\n",
            "        [ 9, 10, 11, 12],\n",
            "        [13, 14, 15, 16]])\n",
            "\n",
            "First row: tensor([1, 2, 3, 4])\n",
            "\n",
            "First column: tensor([ 1,  5,  9, 13])\n",
            "\n",
            "Last row: tensor([ 4,  8, 12, 16])\n"
          ]
        }
      ]
    },
    {
      "cell_type": "code",
      "source": [
        "t = torch.randn(2, 3)\n",
        "print(t)"
      ],
      "metadata": {
        "colab": {
          "base_uri": "https://localhost:8080/"
        },
        "id": "oXS-RSPjOs6L",
        "outputId": "74c07ab8-4726-455b-88c3-75dcf2f94449"
      },
      "execution_count": 10,
      "outputs": [
        {
          "output_type": "stream",
          "name": "stdout",
          "text": [
            "tensor([[ 1.2082, -0.9605, -0.7607],\n",
            "        [ 1.7617, -1.1731,  0.0089]])\n"
          ]
        }
      ]
    },
    {
      "cell_type": "code",
      "source": [
        "print(torch.cat(tensors=[t, t], dim=1))"
      ],
      "metadata": {
        "colab": {
          "base_uri": "https://localhost:8080/"
        },
        "id": "gUFXaeRIQTVD",
        "outputId": "3fceec89-a3b4-4674-937f-3c7c7205ff1e"
      },
      "execution_count": 11,
      "outputs": [
        {
          "output_type": "stream",
          "name": "stdout",
          "text": [
            "tensor([[ 1.2082, -0.9605, -0.7607,  1.2082, -0.9605, -0.7607],\n",
            "        [ 1.7617, -1.1731,  0.0089,  1.7617, -1.1731,  0.0089]])\n"
          ]
        }
      ]
    },
    {
      "cell_type": "code",
      "source": [
        "print(torch.cat(tensors=[t, t, t], dim=0))"
      ],
      "metadata": {
        "colab": {
          "base_uri": "https://localhost:8080/"
        },
        "id": "-eDdArrzQKoU",
        "outputId": "d40ec745-26a7-4e26-b257-e589465971aa"
      },
      "execution_count": 12,
      "outputs": [
        {
          "output_type": "stream",
          "name": "stdout",
          "text": [
            "tensor([[ 1.2082, -0.9605, -0.7607],\n",
            "        [ 1.7617, -1.1731,  0.0089],\n",
            "        [ 1.2082, -0.9605, -0.7607],\n",
            "        [ 1.7617, -1.1731,  0.0089],\n",
            "        [ 1.2082, -0.9605, -0.7607],\n",
            "        [ 1.7617, -1.1731,  0.0089]])\n"
          ]
        }
      ]
    },
    {
      "cell_type": "code",
      "source": [
        "tensor = torch.randn(4, 4)\n",
        "print(tensor)"
      ],
      "metadata": {
        "colab": {
          "base_uri": "https://localhost:8080/"
        },
        "id": "WQFzQGOLQVA9",
        "outputId": "65c56862-b33e-422b-b08a-b42506289316"
      },
      "execution_count": 14,
      "outputs": [
        {
          "output_type": "stream",
          "name": "stdout",
          "text": [
            "tensor([[ 0.3662, -0.4579,  0.0250,  0.6168],\n",
            "        [ 1.1122,  1.1102, -0.5454,  1.0692],\n",
            "        [-0.2610,  0.1941,  0.4885,  0.6939],\n",
            "        [-1.0462, -0.1185,  2.5004, -1.7972]])\n"
          ]
        }
      ]
    },
    {
      "cell_type": "code",
      "source": [
        "y1 = tensor @ tensor.T\n",
        "print(y1)"
      ],
      "metadata": {
        "colab": {
          "base_uri": "https://localhost:8080/"
        },
        "id": "ufba7IMVW6cI",
        "outputId": "ebd0aa68-35e0-4aad-a67f-65ceeb041478"
      },
      "execution_count": 16,
      "outputs": [
        {
          "output_type": "stream",
          "name": "stdout",
          "text": [
            "tensor([[ 0.7248,  0.5447,  0.2558, -1.3748],\n",
            "        [ 0.5447,  3.9104,  0.4007, -4.5805],\n",
            "        [ 0.2558,  0.4007,  0.8260,  0.2243],\n",
            "        [-1.3748, -4.5805,  0.2243, 10.5907]])\n"
          ]
        }
      ]
    },
    {
      "cell_type": "code",
      "source": [
        "y2 = tensor.matmul(tensor.T)\n",
        "print(y2)"
      ],
      "metadata": {
        "colab": {
          "base_uri": "https://localhost:8080/"
        },
        "id": "3OE09x5qW_R8",
        "outputId": "ccd602ef-7337-4cfa-e468-771d424732a9"
      },
      "execution_count": 17,
      "outputs": [
        {
          "output_type": "stream",
          "name": "stdout",
          "text": [
            "tensor([[ 0.7248,  0.5447,  0.2558, -1.3748],\n",
            "        [ 0.5447,  3.9104,  0.4007, -4.5805],\n",
            "        [ 0.2558,  0.4007,  0.8260,  0.2243],\n",
            "        [-1.3748, -4.5805,  0.2243, 10.5907]])\n"
          ]
        }
      ]
    },
    {
      "cell_type": "code",
      "source": [
        "y3 = torch.rand_like(y1)\n",
        "torch.matmul(tensor, tensor.T, out=y3)\n",
        "print(y3)"
      ],
      "metadata": {
        "colab": {
          "base_uri": "https://localhost:8080/"
        },
        "id": "Rzek5cKeXICE",
        "outputId": "e6e18433-42f3-4add-8311-34ca35ec3846"
      },
      "execution_count": 18,
      "outputs": [
        {
          "output_type": "stream",
          "name": "stdout",
          "text": [
            "tensor([[ 0.7248,  0.5447,  0.2558, -1.3748],\n",
            "        [ 0.5447,  3.9104,  0.4007, -4.5805],\n",
            "        [ 0.2558,  0.4007,  0.8260,  0.2243],\n",
            "        [-1.3748, -4.5805,  0.2243, 10.5907]])\n"
          ]
        }
      ]
    },
    {
      "cell_type": "code",
      "source": [
        "z1 = tensor * tensor\n",
        "z2 = tensor.matmul(tensor)\n",
        "\n",
        "z3 = torch.randn_like(tensor)\n",
        "print(torch.mul(tensor, tensor, out=z3))"
      ],
      "metadata": {
        "colab": {
          "base_uri": "https://localhost:8080/"
        },
        "id": "sSeLJr2zXUFO",
        "outputId": "abc3604e-71c4-44d6-9099-2fce6e51da4f"
      },
      "execution_count": 19,
      "outputs": [
        {
          "output_type": "stream",
          "name": "stdout",
          "text": [
            "tensor([[1.3409e-01, 2.0969e-01, 6.2652e-04, 3.8043e-01],\n",
            "        [1.2371e+00, 1.2326e+00, 2.9745e-01, 1.1432e+00],\n",
            "        [6.8134e-02, 3.7663e-02, 2.3861e-01, 4.8156e-01],\n",
            "        [1.0945e+00, 1.4042e-02, 6.2521e+00, 3.2300e+00]])\n"
          ]
        }
      ]
    },
    {
      "cell_type": "code",
      "source": [
        "agg = tensor.sum()\n",
        "agg_item = agg.item()\n",
        "print(agg_item, type(agg_item))"
      ],
      "metadata": {
        "colab": {
          "base_uri": "https://localhost:8080/"
        },
        "id": "EL6MrfObYQTI",
        "outputId": "25321155-9147-4076-d377-90474353d87b"
      },
      "execution_count": 20,
      "outputs": [
        {
          "output_type": "stream",
          "name": "stdout",
          "text": [
            "3.950345754623413 <class 'float'>\n"
          ]
        }
      ]
    },
    {
      "cell_type": "code",
      "source": [],
      "metadata": {
        "id": "kxOn-4MTYYwK"
      },
      "execution_count": null,
      "outputs": []
    }
  ]
}